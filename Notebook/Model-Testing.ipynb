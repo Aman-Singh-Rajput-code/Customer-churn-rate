{
 "cells": [
  {
   "cell_type": "code",
   "execution_count": null,
   "id": "9edacb73-4af7-4c42-aca6-6d71617dc2b2",
   "metadata": {},
   "outputs": [],
   "source": []
  },
  {
   "cell_type": "code",
   "execution_count": 1,
   "id": "0a88b7d2-2a99-455f-8b28-95629c650bd8",
   "metadata": {},
   "outputs": [],
   "source": [
    "import joblib\n",
    "import pandas as pd"
   ]
  },
  {
   "cell_type": "code",
   "execution_count": 2,
   "id": "36e5ab39-5032-4eb6-8140-eb419ff1eecf",
   "metadata": {},
   "outputs": [],
   "source": [
    "model = joblib.load('new_model.pkl')"
   ]
  },
  {
   "cell_type": "code",
   "execution_count": 3,
   "id": "d9353f02-635f-45df-a94b-0a5a21f6b445",
   "metadata": {},
   "outputs": [],
   "source": [
    "# Define the column names as per your dataset during training\n",
    "columns = ['creditscore', 'geography', 'gender', 'age', 'tenure', 'balance',\n",
    "           'numofproducts', 'hascrcard', 'isactivemember', 'estimatedsalary']\n",
    "\n",
    "# Example test data (replace with actual test data or real-time input)\n",
    "test_data = [[80, 'France', 'Male', 40, 1, 10000, 1, 0, 0, 10000]] # Example input format\n",
    "test_df = pd.DataFrame(test_data,columns = columns)"
   ]
  },
  {
   "cell_type": "code",
   "execution_count": 4,
   "id": "dfc28bf9",
   "metadata": {},
   "outputs": [
    {
     "name": "stdout",
     "output_type": "stream",
     "text": [
      "Prediction: [0]\n"
     ]
    }
   ],
   "source": [
    "prediction = model.predict(test_df)\n",
    "print(f\"Prediction: {prediction}\")"
   ]
  },
  {
   "cell_type": "code",
   "execution_count": null,
   "id": "bdceeebb-aa50-4baa-ac68-bd9b6980beb6",
   "metadata": {},
   "outputs": [],
   "source": []
  }
 ],
 "metadata": {
  "kernelspec": {
   "display_name": "Python [conda env:base] *",
   "language": "python",
   "name": "conda-base-py"
  },
  "language_info": {
   "codemirror_mode": {
    "name": "ipython",
    "version": 3
   },
   "file_extension": ".py",
   "mimetype": "text/x-python",
   "name": "python",
   "nbconvert_exporter": "python",
   "pygments_lexer": "ipython3",
   "version": "3.12.7"
  }
 },
 "nbformat": 4,
 "nbformat_minor": 5
}
